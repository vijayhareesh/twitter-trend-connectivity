{
 "cells": [
  {
   "cell_type": "markdown",
   "metadata": {},
   "source": [
    "# Instructor Task\n",
    "## Dataset\n",
    "- [Here](https://s3-us-west-2.amazonaws.com/ga-dat-2015-suneel/datasets/breast-cancer.csv) is the dataset.\n",
    "- [Here](https://archive.ics.uci.edu/ml/machine-learning-databases/breast-cancer-wisconsin/wdbc.names) is a description of the data. Ignore column 0 as it is merely the ID of a patient record."
   ]
  },
  {
   "cell_type": "code",
   "execution_count": null,
   "metadata": {
    "collapsed": true
   },
   "outputs": [],
   "source": []
  },
  {
   "cell_type": "markdown",
   "metadata": {},
   "source": [
    "## 1. Read in the data"
   ]
  },
  {
   "cell_type": "code",
   "execution_count": 1,
   "metadata": {
    "collapsed": false
   },
   "outputs": [],
   "source": [
    "import pandas as pd\n",
    "df = pd.read_csv(\"breast-cancer.csv\", header = None, index_col = 0)\n",
    "df.rename(columns={1:'label'}, inplace=True)"
   ]
  },
  {
   "cell_type": "code",
   "execution_count": 2,
   "metadata": {
    "collapsed": false
   },
   "outputs": [
    {
     "data": {
      "text/html": [
       "<div>\n",
       "<table border=\"1\" class=\"dataframe\">\n",
       "  <thead>\n",
       "    <tr style=\"text-align: right;\">\n",
       "      <th></th>\n",
       "      <th>label</th>\n",
       "      <th>2</th>\n",
       "      <th>3</th>\n",
       "      <th>4</th>\n",
       "      <th>5</th>\n",
       "      <th>6</th>\n",
       "      <th>7</th>\n",
       "      <th>8</th>\n",
       "      <th>9</th>\n",
       "      <th>10</th>\n",
       "      <th>...</th>\n",
       "      <th>22</th>\n",
       "      <th>23</th>\n",
       "      <th>24</th>\n",
       "      <th>25</th>\n",
       "      <th>26</th>\n",
       "      <th>27</th>\n",
       "      <th>28</th>\n",
       "      <th>29</th>\n",
       "      <th>30</th>\n",
       "      <th>31</th>\n",
       "    </tr>\n",
       "    <tr>\n",
       "      <th>0</th>\n",
       "      <th></th>\n",
       "      <th></th>\n",
       "      <th></th>\n",
       "      <th></th>\n",
       "      <th></th>\n",
       "      <th></th>\n",
       "      <th></th>\n",
       "      <th></th>\n",
       "      <th></th>\n",
       "      <th></th>\n",
       "      <th></th>\n",
       "      <th></th>\n",
       "      <th></th>\n",
       "      <th></th>\n",
       "      <th></th>\n",
       "      <th></th>\n",
       "      <th></th>\n",
       "      <th></th>\n",
       "      <th></th>\n",
       "      <th></th>\n",
       "      <th></th>\n",
       "    </tr>\n",
       "  </thead>\n",
       "  <tbody>\n",
       "    <tr>\n",
       "      <th>842302</th>\n",
       "      <td>M</td>\n",
       "      <td>17.99</td>\n",
       "      <td>10.38</td>\n",
       "      <td>122.80</td>\n",
       "      <td>1001.0</td>\n",
       "      <td>0.11840</td>\n",
       "      <td>0.27760</td>\n",
       "      <td>0.3001</td>\n",
       "      <td>0.14710</td>\n",
       "      <td>0.2419</td>\n",
       "      <td>...</td>\n",
       "      <td>25.38</td>\n",
       "      <td>17.33</td>\n",
       "      <td>184.60</td>\n",
       "      <td>2019.0</td>\n",
       "      <td>0.1622</td>\n",
       "      <td>0.6656</td>\n",
       "      <td>0.7119</td>\n",
       "      <td>0.2654</td>\n",
       "      <td>0.4601</td>\n",
       "      <td>0.11890</td>\n",
       "    </tr>\n",
       "    <tr>\n",
       "      <th>842517</th>\n",
       "      <td>M</td>\n",
       "      <td>20.57</td>\n",
       "      <td>17.77</td>\n",
       "      <td>132.90</td>\n",
       "      <td>1326.0</td>\n",
       "      <td>0.08474</td>\n",
       "      <td>0.07864</td>\n",
       "      <td>0.0869</td>\n",
       "      <td>0.07017</td>\n",
       "      <td>0.1812</td>\n",
       "      <td>...</td>\n",
       "      <td>24.99</td>\n",
       "      <td>23.41</td>\n",
       "      <td>158.80</td>\n",
       "      <td>1956.0</td>\n",
       "      <td>0.1238</td>\n",
       "      <td>0.1866</td>\n",
       "      <td>0.2416</td>\n",
       "      <td>0.1860</td>\n",
       "      <td>0.2750</td>\n",
       "      <td>0.08902</td>\n",
       "    </tr>\n",
       "    <tr>\n",
       "      <th>84300903</th>\n",
       "      <td>M</td>\n",
       "      <td>19.69</td>\n",
       "      <td>21.25</td>\n",
       "      <td>130.00</td>\n",
       "      <td>1203.0</td>\n",
       "      <td>0.10960</td>\n",
       "      <td>0.15990</td>\n",
       "      <td>0.1974</td>\n",
       "      <td>0.12790</td>\n",
       "      <td>0.2069</td>\n",
       "      <td>...</td>\n",
       "      <td>23.57</td>\n",
       "      <td>25.53</td>\n",
       "      <td>152.50</td>\n",
       "      <td>1709.0</td>\n",
       "      <td>0.1444</td>\n",
       "      <td>0.4245</td>\n",
       "      <td>0.4504</td>\n",
       "      <td>0.2430</td>\n",
       "      <td>0.3613</td>\n",
       "      <td>0.08758</td>\n",
       "    </tr>\n",
       "    <tr>\n",
       "      <th>84348301</th>\n",
       "      <td>M</td>\n",
       "      <td>11.42</td>\n",
       "      <td>20.38</td>\n",
       "      <td>77.58</td>\n",
       "      <td>386.1</td>\n",
       "      <td>0.14250</td>\n",
       "      <td>0.28390</td>\n",
       "      <td>0.2414</td>\n",
       "      <td>0.10520</td>\n",
       "      <td>0.2597</td>\n",
       "      <td>...</td>\n",
       "      <td>14.91</td>\n",
       "      <td>26.50</td>\n",
       "      <td>98.87</td>\n",
       "      <td>567.7</td>\n",
       "      <td>0.2098</td>\n",
       "      <td>0.8663</td>\n",
       "      <td>0.6869</td>\n",
       "      <td>0.2575</td>\n",
       "      <td>0.6638</td>\n",
       "      <td>0.17300</td>\n",
       "    </tr>\n",
       "    <tr>\n",
       "      <th>84358402</th>\n",
       "      <td>M</td>\n",
       "      <td>20.29</td>\n",
       "      <td>14.34</td>\n",
       "      <td>135.10</td>\n",
       "      <td>1297.0</td>\n",
       "      <td>0.10030</td>\n",
       "      <td>0.13280</td>\n",
       "      <td>0.1980</td>\n",
       "      <td>0.10430</td>\n",
       "      <td>0.1809</td>\n",
       "      <td>...</td>\n",
       "      <td>22.54</td>\n",
       "      <td>16.67</td>\n",
       "      <td>152.20</td>\n",
       "      <td>1575.0</td>\n",
       "      <td>0.1374</td>\n",
       "      <td>0.2050</td>\n",
       "      <td>0.4000</td>\n",
       "      <td>0.1625</td>\n",
       "      <td>0.2364</td>\n",
       "      <td>0.07678</td>\n",
       "    </tr>\n",
       "  </tbody>\n",
       "</table>\n",
       "<p>5 rows × 31 columns</p>\n",
       "</div>"
      ],
      "text/plain": [
       "         label      2      3       4       5        6        7       8  \\\n",
       "0                                                                        \n",
       "842302       M  17.99  10.38  122.80  1001.0  0.11840  0.27760  0.3001   \n",
       "842517       M  20.57  17.77  132.90  1326.0  0.08474  0.07864  0.0869   \n",
       "84300903     M  19.69  21.25  130.00  1203.0  0.10960  0.15990  0.1974   \n",
       "84348301     M  11.42  20.38   77.58   386.1  0.14250  0.28390  0.2414   \n",
       "84358402     M  20.29  14.34  135.10  1297.0  0.10030  0.13280  0.1980   \n",
       "\n",
       "                9      10   ...        22     23      24      25      26  \\\n",
       "0                           ...                                            \n",
       "842302    0.14710  0.2419   ...     25.38  17.33  184.60  2019.0  0.1622   \n",
       "842517    0.07017  0.1812   ...     24.99  23.41  158.80  1956.0  0.1238   \n",
       "84300903  0.12790  0.2069   ...     23.57  25.53  152.50  1709.0  0.1444   \n",
       "84348301  0.10520  0.2597   ...     14.91  26.50   98.87   567.7  0.2098   \n",
       "84358402  0.10430  0.1809   ...     22.54  16.67  152.20  1575.0  0.1374   \n",
       "\n",
       "              27      28      29      30       31  \n",
       "0                                                  \n",
       "842302    0.6656  0.7119  0.2654  0.4601  0.11890  \n",
       "842517    0.1866  0.2416  0.1860  0.2750  0.08902  \n",
       "84300903  0.4245  0.4504  0.2430  0.3613  0.08758  \n",
       "84348301  0.8663  0.6869  0.2575  0.6638  0.17300  \n",
       "84358402  0.2050  0.4000  0.1625  0.2364  0.07678  \n",
       "\n",
       "[5 rows x 31 columns]"
      ]
     },
     "execution_count": 2,
     "metadata": {},
     "output_type": "execute_result"
    }
   ],
   "source": [
    "df.head()"
   ]
  },
  {
   "cell_type": "markdown",
   "metadata": {},
   "source": [
    "## 2. Separate the data into feature and target."
   ]
  },
  {
   "cell_type": "code",
   "execution_count": 3,
   "metadata": {
    "collapsed": false
   },
   "outputs": [
    {
     "data": {
      "text/plain": [
       "0\n",
       "842302      M\n",
       "842517      M\n",
       "84300903    M\n",
       "84348301    M\n",
       "84358402    M\n",
       "Name: label, dtype: object"
      ]
     },
     "execution_count": 3,
     "metadata": {},
     "output_type": "execute_result"
    }
   ],
   "source": [
    "feature_cols = range(2,32)\n",
    "target_cols = 'label'\n",
    "features_df = df[feature_cols]\n",
    "target_df = df[target_cols]\n",
    "target_df.head()"
   ]
  },
  {
   "cell_type": "markdown",
   "metadata": {},
   "source": [
    "## 3. Create and evaluate using cross_val_score and 5 folds.\n",
    "- What is the mean accuracy?\n",
    "- What is the standard deviation of accuracy?"
   ]
  },
  {
   "cell_type": "code",
   "execution_count": 4,
   "metadata": {
    "collapsed": false
   },
   "outputs": [
    {
     "name": "stderr",
     "output_type": "stream",
     "text": [
      "/Users/vijayhareesh/anaconda/lib/python2.7/site-packages/sklearn/cross_validation.py:69: DeprecationWarning: The indices parameter is deprecated and will be removed (assumed True) in 0.17\n",
      "  stacklevel=1)\n"
     ]
    }
   ],
   "source": [
    "from sklearn import cross_validation\n",
    "from sklearn.linear_model import LogisticRegression\n",
    "#X_tr, X_te, y_tr, y_te = cross_validation.train_test_split(features_df, target_df, test_size=0.2, random_state=0)\n",
    "kfold_total = cross_validation.KFold(len(features_df), n_folds=5, indices=False, shuffle=True, random_state=5)\n",
    "lr = LogisticRegression()\n"
   ]
  },
  {
   "cell_type": "code",
   "execution_count": 5,
   "metadata": {
    "collapsed": false
   },
   "outputs": [
    {
     "name": "stdout",
     "output_type": "stream",
     "text": [
      "Mean Accuracy : 0.950721937587\n",
      "Standard Deviation of Accuracy : 0.0288235059324\n"
     ]
    }
   ],
   "source": [
    "scores = cross_validation.cross_val_score(lr, features_df, target_df, cv=kfold_total, n_jobs=1)\n",
    "print \"Mean Accuracy : \" + str(scores.mean())\n",
    "print \"Standard Deviation of Accuracy : \" + str(scores.std())"
   ]
  },
  {
   "cell_type": "code",
   "execution_count": null,
   "metadata": {
    "collapsed": false
   },
   "outputs": [],
   "source": []
  },
  {
   "cell_type": "markdown",
   "metadata": {},
   "source": [
    "## 4. Get a classification report to identify type 1, type 2 errors.\n",
    "- Use train_test_split to run your model once, with a test size of 0.33\n",
    "- Make predictions on the test set\n",
    "- Compare the predictions to the answers to determine the classification report"
   ]
  },
  {
   "cell_type": "code",
   "execution_count": 6,
   "metadata": {
    "collapsed": false
   },
   "outputs": [
    {
     "name": "stdout",
     "output_type": "stream",
     "text": [
      "[[121   1]\n",
      " [  2  64]]\n"
     ]
    }
   ],
   "source": [
    "from sklearn.metrics import confusion_matrix\n",
    "X_tr, X_te, y_tr, y_te = cross_validation.train_test_split(features_df, target_df, test_size=0.33, random_state=5)\n",
    "lr.fit(features_df,target_df)\n",
    "predicted_y = lr.predict(X_te)\n",
    "expected_y = y_te\n",
    "print confusion_matrix(expected_y,predicted_y, labels = [\"B\", \"M\"])"
   ]
  },
  {
   "cell_type": "markdown",
   "metadata": {},
   "source": [
    "* Accuracy : How often does the classifier predict correctly\n",
    "= 121+64/188 = 98.40%\n",
    "\n",
    "* Precision : How often does it predict Malignancy correctly\n",
    "= 64/65 = 98.46%\n",
    "\n",
    "* Recall : When it's actually malignant how often does our classifier predict it?\n",
    "= 64/64+2 = 96.96%\n",
    "\n",
    "* Type 1 error (False positive): \n",
    "i.e., when it is actually benign but it predicts malignant\n",
    "= 1/122 = 0.81%\n",
    "\n",
    "* Type 2 error (False negative):\n",
    "i.e., when it is actually malignant but it predicts benign\n",
    "= 2/66 = 3.03%"
   ]
  },
  {
   "cell_type": "markdown",
   "metadata": {},
   "source": [
    "## 5. Scale the data and see if that improves the score."
   ]
  },
  {
   "cell_type": "code",
   "execution_count": 7,
   "metadata": {
    "collapsed": false
   },
   "outputs": [
    {
     "name": "stdout",
     "output_type": "stream",
     "text": [
      "[[122   0]\n",
      " [  2  64]]\n"
     ]
    }
   ],
   "source": [
    "from sklearn import preprocessing\n",
    "scaled_features = preprocessing.scale(features_df)\n",
    "X_tr, X_te, y_tr, y_te = cross_validation.train_test_split(scaled_features, target_df, test_size=0.33, random_state=5)\n",
    "lr.fit(scaled_features,target_df)\n",
    "predicted_y = lr.predict(X_te)\n",
    "expected_y = y_te\n",
    "print confusion_matrix(expected_y,predicted_y, labels = ['B', 'M'])"
   ]
  },
  {
   "cell_type": "markdown",
   "metadata": {},
   "source": [
    "* Accuracy : How often does the classifier predict correctly\n",
    "= 122+64/188 = 98.93%\n",
    "\n",
    "* Precision : How often does it predict Malignancy correctly\n",
    "= 64/64 = 100%\n",
    "\n",
    "* Recall : When it's actually malignant how often does our classifier predict it?\n",
    "= 64/64+2 = 96.96%\n",
    "\n",
    "* Type 1 error (False positive): \n",
    "i.e., when it is actually benign but it predicts malignant\n",
    "= 0/122 = 0%\n",
    "\n",
    "* Type 2 error (False negative):\n",
    "i.e., when it is actually malignant but it predicts benign\n",
    "= 2/66 = 3.03%\n",
    "\n",
    "* We could actually say that it has eliminated the Type 1 error. However, the recall couldn't improved."
   ]
  },
  {
   "cell_type": "markdown",
   "metadata": {},
   "source": [
    "## 6. Tune the model using automated parametric grid search via LogisticRegressionCV. Explain your intution behind what is being tuned."
   ]
  },
  {
   "cell_type": "markdown",
   "metadata": {},
   "source": [
    "### Q: What should we do to prevent overfitting so our model generalizes well to the test data?"
   ]
  },
  {
   "cell_type": "markdown",
   "metadata": {},
   "source": [
    "In order to prevent overfitting, we need to generalize the model. In order to do that, we have to focus on the parameters that we can tune in the model to regularize it. One such parameter we can tune in Logistic Regression is C and LogisticRegressionCV takes it as an array input to the parameter Cs. I have given a range of logspace values from 10^0 to 10^{0.1} since the lower the C value, the stronger is the regularisation"
   ]
  },
  {
   "cell_type": "code",
   "execution_count": 8,
   "metadata": {
    "collapsed": false
   },
   "outputs": [
    {
     "data": {
      "text/plain": [
       "[0.97368421052631582,\n",
       " 0.99122807017543857,\n",
       " 0.92105263157894735,\n",
       " 0.94736842105263153,\n",
       " 0.92035398230088494]"
      ]
     },
     "execution_count": 8,
     "metadata": {},
     "output_type": "execute_result"
    }
   ],
   "source": [
    "from sklearn.linear_model import LogisticRegressionCV\n",
    "from sklearn.grid_search import GridSearchCV\n",
    "import numpy as np\n",
    "lrgrid = GridSearchCV(estimator=LogisticRegressionCV(), param_grid=dict(Cs=[np.logspace(0,0.1,10)]), n_jobs=1)\n",
    "[lrgrid.fit(features_df.loc[train.tolist()],target_df.loc[train.tolist()]).score(features_df.loc[test.tolist()],target_df.loc[test.tolist()]) for train, test in kfold_total]"
   ]
  },
  {
   "cell_type": "markdown",
   "metadata": {},
   "source": [
    "### Q: What was the best C?"
   ]
  },
  {
   "cell_type": "markdown",
   "metadata": {},
   "source": [
    "We use the automated GridSearchCV to find out the best C within the range that we have given as an input. We get the best C with the method best\\_estimator\\_.C\\_ for LogisticRegressionCV. (for LogisticRegression it is just C without an '\\_') "
   ]
  },
  {
   "cell_type": "code",
   "execution_count": 9,
   "metadata": {
    "collapsed": false
   },
   "outputs": [
    {
     "name": "stdout",
     "output_type": "stream",
     "text": [
      "0.953947368421\n",
      "[ 1.10775685]\n"
     ]
    }
   ],
   "source": [
    "print lrgrid.best_score_\n",
    "print lrgrid.best_estimator_.C_"
   ]
  },
  {
   "cell_type": "code",
   "execution_count": 10,
   "metadata": {
    "collapsed": false
   },
   "outputs": [
    {
     "data": {
      "text/plain": [
       "array([ 0.97368421,  0.99122807,  0.92982456,  0.94736842,  0.92035398])"
      ]
     },
     "execution_count": 10,
     "metadata": {},
     "output_type": "execute_result"
    }
   ],
   "source": [
    "cross_validation.cross_val_score(lrgrid, features_df, target_df, cv=kfold_total, n_jobs=1)"
   ]
  },
  {
   "cell_type": "markdown",
   "metadata": {},
   "source": [
    "## 7. Create Two Plots that describe the data and discuss your results"
   ]
  },
  {
   "cell_type": "markdown",
   "metadata": {},
   "source": [
    "We know that Visualisation of more than 3 dimensions is impossible and thus, I have applied PCA on the dataframe to find the principal components and have plotted the major axes obtained from the PCA"
   ]
  },
  {
   "cell_type": "code",
   "execution_count": 11,
   "metadata": {
    "collapsed": false
   },
   "outputs": [
    {
     "data": {
      "image/png": "[encoded data removed]",
      "text/plain": [
       "<matplotlib.figure.Figure at 0x108dc73d0>"
      ]
     },
     "metadata": {},
     "output_type": "display_data"
    }
   ],
   "source": [
    "import matplotlib.pyplot as plt\n",
    "%matplotlib inline\n",
    "from sklearn.decomposition import PCA\n",
    "pca = PCA(n_components = 2)\n",
    "pca.fit(features_df)\n",
    "pca_df = pd.DataFrame(pca.transform(features_df), index = df.index)\n",
    "label_df = pd.DataFrame(target_df)\n",
    "new_df = pd.concat([label_df,pca_df], axis=1)\n",
    "#new_df\n",
    "\n",
    "bx = plt.scatter(x = new_df[0][new_df['label']=='M'], y = new_df[1][new_df['label']=='M'], color='Red', label='Malignant')\n",
    "bx = plt.scatter(x = new_df[0][new_df['label']=='B'], y = new_df[1][new_df['label']=='B'], color='green', label='Benign')"
   ]
  },
  {
   "cell_type": "code",
   "execution_count": 12,
   "metadata": {
    "collapsed": false
   },
   "outputs": [
    {
     "data": {
      "text/plain": [
       "<matplotlib.axes._subplots.AxesSubplot at 0x107a44dd0>"
      ]
     },
     "execution_count": 12,
     "metadata": {},
     "output_type": "execute_result"
    },
    {
     "data": {
      "image/png": "[encoded data removed]",
      "text/plain": [
       "<matplotlib.figure.Figure at 0x107a44d90>"
      ]
     },
     "metadata": {},
     "output_type": "display_data"
    }
   ],
   "source": [
    "df['label'].value_counts().plot(kind='bar')"
   ]
  },
  {
   "cell_type": "markdown",
   "metadata": {},
   "source": [
    "The above bar char gives us a simple intuition about the number of cases reported i.e., the patients with benign tumour are about 350 in number and Malignant are about 200 in number summing up to 550 which is close to 568, the total number of cases reported"
   ]
  },
  {
   "cell_type": "markdown",
   "metadata": {},
   "source": [
    "## 8. Provide a one-sentence summary for a non-technical audience. Then provide a longer paragraph-length technical explanation."
   ]
  },
  {
   "cell_type": "markdown",
   "metadata": {
    "collapsed": false
   },
   "source": [
    "Non Technical Audience :\n",
    "* Our model definitely predicts all the patients who would be effected with Malignant tumour if they have but sometimes wrongly predicts even safe patients with malignant tumour\n",
    "\n",
    "Technical Audience :\n",
    "* The data that we have obtained is about 568 rows on which Logistic Regression was implemented on. However, the model obtained better results on scaling the data rather than direct application.\n",
    "* The data also yielded better results before regularization rather than usual application. The C value has to be chosen accordingly though. Since I have followed an intuition on having the lower C value the better, I have given a range of 10^0 to 10^0.1 to gridsearch but could differ on different applications.\n",
    "* The major visualisations were to have the number of patients reported and the features that define the final target but, having a multidimensional data in hand, I have implemented PCA to get the top two axes to visualise since it gives us the best possible intuition about the features\n",
    "* There is obviously a tradeoff between a regularisation and the precision and accuracy. The more generalisation we want for the data, the lower would be the precision and accuracy that we obtain"
   ]
  },
  {
   "cell_type": "markdown",
   "metadata": {},
   "source": [
    "References: \n",
    "* http://scikit-learn.org/stable/tutorial/statistical_inference/model_selection.html\n",
    "* http://scikit-learn.org/stable/modules/generated/sklearn.linear_model.LogisticRegressionCV.html\n",
    "* http://scikit-learn.org/stable/modules/model_evaluation.html\n",
    "* https://randomforests.wordpress.com"
   ]
  },
  {
   "cell_type": "code",
   "execution_count": null,
   "metadata": {
    "collapsed": true
   },
   "outputs": [],
   "source": []
  }
 ],
 "metadata": {
  "kernelspec": {
   "display_name": "Python 2",
   "language": "python",
   "name": "python2"
  },
  "language_info": {
   "codemirror_mode": {
    "name": "ipython",
    "version": 2
   },
   "file_extension": ".py",
   "mimetype": "text/x-python",
   "name": "python",
   "nbconvert_exporter": "python",
   "pygments_lexer": "ipython2",
   "version": "2.7.10"
  }
 },
 "nbformat": 4,
 "nbformat_minor": 0
}
